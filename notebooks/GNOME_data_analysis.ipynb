{
 "cells": [
  {
   "cell_type": "code",
   "execution_count": 1,
   "metadata": {
    "collapsed": false
   },
   "outputs": [
    {
     "name": "stdout",
     "output_type": "stream",
     "text": [
      "gnome_da.py\n"
     ]
    }
   ],
   "source": [
    "%%bash\n",
    "# No installer for this, so we grab it from the repo\n",
    "wget -q https://raw.githubusercontent.com/GNOME-physics/3_23_2016_data_analysis/master/gnome_da.py\n",
    "ls gnome_da.py"
   ]
  },
  {
   "cell_type": "code",
   "execution_count": 27,
   "metadata": {
    "collapsed": false
   },
   "outputs": [
    {
     "name": "stdout",
     "output_type": "stream",
     "text": [
      "0.1b4.dev171\n"
     ]
    }
   ],
   "source": [
    "import os\n",
    "import math\n",
    "import glob\n",
    "from pprint import pprint\n",
    "\n",
    "import numpy\n",
    "import matplotlib\n",
    "%matplotlib inline\n",
    "from matplotlib import pyplot\n",
    "import h5py\n",
    "\n",
    "from glue.segments import segment, segmentlist, segmentlistdict\n",
    "\n",
    "import gwpy\n",
    "print gwpy.__version__\n",
    "from gwpy.timeseries import TimeSeries, TimeSeriesList\n",
    "from gwpy.segments import SegmentList\n",
    "from gwpy.plotter import TimeSeriesPlot, SpectrogramPlot, SpectrumPlot, SegmentPlot\n",
    "from gwpy.segments import DataQualityDict, DataQualityFlag\n",
    "\n",
    "from astropy.units import Quantity\n",
    "\n",
    "import gnome_da"
   ]
  },
  {
   "cell_type": "markdown",
   "metadata": {},
   "source": [
    "## Station Color Mappings\n",
    "\n",
    "These are color mappings I've arbitrarily chosen for each station. They can be adjusted if necessary."
   ]
  },
  {
   "cell_type": "code",
   "execution_count": 11,
   "metadata": {
    "collapsed": true
   },
   "outputs": [],
   "source": [
    "\"\"\"\n",
    "station_map = {\n",
    "    \"berkeley\": 'r',\n",
    "    \"mainz\": 'b',\n",
    "    \"fribourg\": 'g',\n",
    "    \"hayward\": 'c',\n",
    "    \"krakow\": 'k'\n",
    "}\n",
    "\"\"\"\n",
    "\n",
    "station_map = {\n",
    "    \"berkeley\": 'r',\n",
    "    \"mainz\": 'b',\n",
    "}\n"
   ]
  },
  {
   "cell_type": "markdown",
   "metadata": {},
   "source": [
    "## Retrieve and store data\n",
    "\n",
    "We will need to get, unpack, and store the data. The `basepath` variable below stores the directory stem.\n",
    "\n",
    "**TODO**: Get data tutorial (can we do it through bash?)"
   ]
  },
  {
   "cell_type": "code",
   "execution_count": 12,
   "metadata": {
    "collapsed": true
   },
   "outputs": [],
   "source": [
    "# Path stem for all data in hierarchal, timestamped folder system\n",
    "base_path = \"/Users/chrispankow/work/comag/3_23_2016_data\"\n",
    "# Name of the HDF5 data set holding magnetometer data\n",
    "setname = \"MagneticFields\""
   ]
  },
  {
   "cell_type": "markdown",
   "metadata": {},
   "source": [
    "## Utility Functions\n",
    "\n",
    "TODO: Send them to `gnome_da`."
   ]
  },
  {
   "cell_type": "code",
   "execution_count": 13,
   "metadata": {
    "collapsed": true
   },
   "outputs": [],
   "source": [
    "def retrieve_file_paths(base_path, station, gps_start=None, gps_end=None):\n",
    "    \"\"\"\n",
    "    Get all the paths for a given station in a base_path.\n",
    "    TODO: convert gps segment to UTC and format the path appropriately.\n",
    "    \"\"\"\n",
    "    path_glob = os.path.join(base_path, \\\n",
    "                             \"data/GNOMEDrive/gnome/serverdata/%s01/2016/03/23/%s01_20160323_*.hdf5\" \\\n",
    "                             % (station, station))\n",
    "    return glob.glob(path_glob)\n",
    "\n",
    "def generate_timeseries(data_list, setname=\"MagneticFields\"):\n",
    "\n",
    "    full_data = TimeSeriesList()\n",
    "    for seg in sorted(data_list):\n",
    "        hfile = h5py.File(data_list[seg], \"r\")\n",
    "        full_data.append(gnome_da.retrieve_data_timeseries(hfile, \"MagneticFields\"))\n",
    "        hfile.close()\n",
    "\n",
    "    return full_data"
   ]
  },
  {
   "cell_type": "markdown",
   "metadata": {},
   "source": [
    "## Data file metadata\n",
    "\n",
    "Each file corresponds to about 60 seconds of data, but the glob does not preserve chronological order. We glob the files, order them and record some metadata"
   ]
  },
  {
   "cell_type": "code",
   "execution_count": 51,
   "metadata": {
    "collapsed": false
   },
   "outputs": [
    {
     "name": "stdout",
     "output_type": "stream",
     "text": [
      "Globbing and loading file metadata\n",
      "...done, 2 files loaded\n"
     ]
    }
   ],
   "source": [
    "print \"Globbing and loading file metadata\"\n",
    "data_order = {}\n",
    "for station, color in station_map.iteritems():\n",
    "    data_order[station] = {}\n",
    "\n",
    "    #\n",
    "    # Figure out the order of the data files to fill in the time series\n",
    "    #\n",
    "    for fname in retrieve_file_paths(base_path, station):\n",
    "        hfile = h5py.File(fname, \"r\")\n",
    "        data_order[station][gnome_da._file_to_segment(hfile)] = fname\n",
    "        hfile.close()\n",
    "\n",
    "print \"...done, %d files loaded\" % len(data_order)\n",
    "\n",
    "# Uncomment to view a mapping of the data segments to the filenames\n",
    "#pprint(data_order)"
   ]
  },
  {
   "cell_type": "markdown",
   "metadata": {},
   "source": [
    "## Establishing active times\n",
    "\n",
    "The data itself is segmented, and sometimes files will be missing. We first establish \"segments\" of time where we have data."
   ]
  },
  {
   "cell_type": "code",
   "execution_count": 52,
   "metadata": {
    "collapsed": false
   },
   "outputs": [
    {
     "name": "stdout",
     "output_type": "stream",
     "text": [
      "Generating segment lists for each station\n",
      "Done. Segment list summary:\n",
      "-- mainz ---------\n",
      "1142726468.000000 1142730128.000000\n",
      "-- berkeley ---------\n",
      "1142726425.000000 1142726665.000000\n",
      "1142726667.000000 1142726847.000000\n",
      "1142728250.000000 1142728310.000000\n",
      "1142728312.000000 1142728432.000000\n",
      "1142728434.000000 1142728494.000000\n",
      "1142728496.000000 1142728856.000000\n",
      "1142728858.000000 1142729038.000000\n",
      "1142729040.000000 1142729640.000000\n",
      "1142729642.000000 1142729702.000000\n",
      "1142729704.000000 1142730124.000000\n"
     ]
    },
    {
     "data": {
      "image/png": "[encoded data removed]",
      "text/plain": [
       "<gwpy.plotter.segments.SegmentPlot at 0x10f160f90>"
      ]
     },
     "metadata": {},
     "output_type": "display_data"
    }
   ],
   "source": [
    "full_seglist = DataQualityDict()\n",
    "\n",
    "print \"Generating segment lists for each station\"\n",
    "for station, color in station_map.iteritems():\n",
    "    #\n",
    "    # Generate an ASCII representation of the GPS timestamped segments of time\n",
    "    # covered by the input data\n",
    "    #\n",
    "    seglist = segmentlist(data_order[station].keys())\n",
    "    seglist.sort()\n",
    "    span = seglist.extent()\n",
    "    with open(\"%s_segments_%d_%d.txt\" % (station, span[0], span[1]), \"w\") as fout:\n",
    "        for seg in seglist:\n",
    "            print >>fout, \"%10.9f %10.9f\" % seg\n",
    "\n",
    "    # FIXME: Active should be masked from the sanity channel\n",
    "    full_seglist[station] = DataQualityFlag(station, active=seglist.coalesce(), known=seglist.coalesce())\n",
    "\n",
    "from gwpy.plotter import SegmentPlot\n",
    "plot = SegmentPlot()\n",
    "ax = plot.gca()\n",
    "ax.plot(full_seglist);\n",
    "\n",
    "print \"Done. Segment list summary:\"\n",
    "for station, segl in full_seglist.iteritems():\n",
    "    print \"-- %s ---------\" % station\n",
    "    for seg in segl.active:\n",
    "        print \"%10.6f %10.6f\" % seg"
   ]
  },
  {
   "cell_type": "markdown",
   "metadata": {},
   "source": [
    "## Retrieve and concatenate the data\n",
    "\n",
    "We now want to get all the data in the period of interest so we can analyze it in different ways. This can be tricky for non-contiguous data, but luckily `gwpy` has many ways of dealing with this."
   ]
  },
  {
   "cell_type": "code",
   "execution_count": 53,
   "metadata": {
    "collapsed": false
   },
   "outputs": [],
   "source": [
    "full_data = {}\n",
    "for station in station_map:\n",
    "    full_data[station] = generate_timeseries(data_order[station], setname)\n",
    "\n",
    "# We don't really need this any more, so it can be deleted\n",
    "del data_order"
   ]
  },
  {
   "cell_type": "code",
   "execution_count": 54,
   "metadata": {
    "collapsed": false
   },
   "outputs": [
    {
     "name": "stdout",
     "output_type": "stream",
     "text": [
      "-- mainz -------\n",
      "1142726468.0 1142730128.0\n",
      "-- berkeley -------\n",
      "1142726425.0 1142730124.0\n"
     ]
    },
    {
     "data": {
      "image/png": "[encoded data removed]",
      "text/plain": [
       "<gwpy.plotter.timeseries.TimeSeriesPlot at 0x10ec477d0>"
      ]
     },
     "metadata": {},
     "output_type": "display_data"
    }
   ],
   "source": [
    "# To superimpose all time series plots ontop of each other\n",
    "#all_plot = TimeSeriesPlot()\n",
    "\n",
    "tsplot = {}\n",
    "for station, data_list in full_data.iteritems():\n",
    "    print \"-- %s -------\" % station\n",
    "    station_seglist = full_seglist[station]\n",
    "    start, end = station_seglist.active.extent()\n",
    "    print start, end\n",
    "\n",
    "    #\n",
    "    # Generate a plot of the data time series\n",
    "    #\n",
    "    tsplot[station] = TimeSeriesPlot()\n",
    "    ax = tsplot[station].gca()\n",
    "    for ts in data_list:\n",
    "        ax.plot(ts, color=station_map[station])\n",
    "    ax.set_title(station)\n",
    "    tsplot[station].add_state_segments(SegmentList(station_seglist.active), \\\n",
    "                            plotargs={'label': 'data present', 'facecolor': 'g', 'edgecolor': 'k'})\n",
    "    ax.set_xlim(start, end)\n",
    "    tsplot[station].savefig(\"%s_time_series_%d_%d.png\" % (station, start, end))\n",
    "    continue\n",
    "\n",
    "    # AGG complexity starts to complain with large numbers of points\n",
    "    # And we somehow invoke precision issues that need to be ameliorated\n",
    "    for d in data_list:\n",
    "        d.x0 = Quantity(int(d.x0.value * 1000), d.xunit)\n",
    "        d.dx = Quantity(1, d.xunit)\n",
    "    data_list.coalesce()\n",
    "    for d in data_list:\n",
    "        d.x0 = Quantity(d.x0.value / 1000, d.xunit)\n",
    "        d.dx = Quantity(0.001, d.xunit)\n",
    "\n",
    "    #\n",
    "    # Generate an amplitude spectrum density plot\n",
    "    #\n",
    "    plot = SpectrumPlot()\n",
    "    for d in data_list:\n",
    "        spectrum = d.asd(8, 4) # 8 seconds per FFT, 4 second (50% overlap)\n",
    "        ax = plot.gca()\n",
    "        ax.plot(spectrum)\n",
    "    ax.set_xscale('log')\n",
    "    ax.set_yscale('log')\n",
    "    ax.set_xlim(1e-1, 500)\n",
    "    plot.savefig(\"%s_spectrum_%d_%d.png\" % (station, start, end))\n",
    "    continue\n",
    "\n",
    "    #\n",
    "    # Generate a spectorgram plot, and a normalized spectrogram plot\n",
    "    # norm: \\sqrt{S(f,t)} / \\sqrt{\\overbar{S(f)}}\n",
    "    #\n",
    "    plot = SpectrogramPlot()\n",
    "    white_plot = SpectrogramPlot()\n",
    "    ax = plot.gca()\n",
    "    wax = white_plot.gca()\n",
    "    for ts in data_list:\n",
    "        print ts.x0\n",
    "        if (len(ts) * ts.dt).value < 60:\n",
    "            continue\n",
    "        spec = ts.spectrogram(60, fftlength=6, overlap=3)\n",
    "        ax.plot(spec)\n",
    "        wspec = spec.ratio('median')\n",
    "        wax.plot(wspec, vmin=0.1, vmax=10)\n",
    "\n",
    "    ax.set_title(station)\n",
    "    ax.set_ylim(1e-1, 500)\n",
    "    ax.set_yscale('log')\n",
    "    wax.set_title(station)\n",
    "    wax.set_ylim(1e-1, 500)\n",
    "    wax.set_yscale('log')\n",
    "    plot.add_colorbar(log=True)\n",
    "    plot.add_state_segments(SegmentList(seglist), plotargs={'label': 'data present', 'facecolor': 'g', 'edgecolor': 'k'})\n",
    "    ax.set_xlim(seglist[0][0], seglist[-1][1])\n",
    "    wax.set_xlim(seglist[0][0], seglist[-1][1])\n",
    "    plot.savefig(\"%s_spectrogram_%d_%d.png\" % (station, start, end))\n",
    "\n",
    "    white_plot.add_colorbar(log=True)\n",
    "    white_plot.add_state_segments(SegmentList(seglist), plotargs={'label': 'data present', 'facecolor': 'g', 'edgecolor': 'k'})\n",
    "    white_plot.savefig(\"%s_whitened_spectrogram_%d_%d.png\" % (station, start, end))\n",
    "\n",
    "    ax = all_plot.gca()\n",
    "    for ts in full_data:\n",
    "        ax.plot(ts, color=color)\n",
    "\n",
    "    full_seglist.extend(seglist)\n",
    "    full_seglist.coalesce()\n",
    "\n",
    "    # TODO: Check coherence with other channels\n",
    "\n",
    "\n",
    "#\n",
    "# Generate a plot of all the station's time series\n",
    "#\n",
    "#ax = all_plot.gca()\n",
    "#ax.set_xlim(full_seglist[0][0], full_seglist[-1][1])\n",
    "#ax.set_titile(\"all stations\")\n",
    "#all_plot.savefig(\"time_series.png\")\n",
    "#all_plot.close()"
   ]
  },
  {
   "cell_type": "code",
   "execution_count": null,
   "metadata": {
    "collapsed": true
   },
   "outputs": [],
   "source": []
  }
 ],
 "metadata": {
  "kernelspec": {
   "display_name": "Python 2",
   "language": "python",
   "name": "python2"
  },
  "language_info": {
   "codemirror_mode": {
    "name": "ipython",
    "version": 2
   },
   "file_extension": ".py",
   "mimetype": "text/x-python",
   "name": "python",
   "nbconvert_exporter": "python",
   "pygments_lexer": "ipython2",
   "version": "2.7.11"
  }
 },
 "nbformat": 4,
 "nbformat_minor": 0
}
