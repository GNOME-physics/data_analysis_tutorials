{
 "cells": [
  {
   "cell_type": "markdown",
   "metadata": {},
   "source": [
    "# Introduction to Probability Theory\n",
    "\n",
    "GNOME bootmap\n",
    "August 17, 2016\n",
    "\n",
    "### Overview\n",
    "\n",
    " * Definition of probability: discrete\n",
    "   * Normalization rules\n",
    "   * Joint probability distribution\n",
    " * Definition of probability: continuous\n",
    "   * Moments\n",
    "   * Cumulative distribution function"
   ]
  },
  {
   "cell_type": "code",
   "execution_count": 2,
   "metadata": {
    "collapsed": true
   },
   "outputs": [],
   "source": [
    "# Preliminaries\n",
    "import numpy\n",
    "import scipy.special\n",
    "import scipy.stats\n",
    "#import pandas\n",
    "#import seaborn\n",
    "import matplotlib\n",
    "from matplotlib import pyplot\n",
    "%matplotlib inline"
   ]
  },
  {
   "cell_type": "markdown",
   "metadata": {},
   "source": [
    "## Probability\n",
    "\n",
    "Simple definition: chance (percent) of an outcome defined over a set of *possible* outcomes. Said differently, over an 'ensemble' of identical experiments with the given outcomes, an event will occur with a frequency proportional to its probability.\n",
    "\n",
    "### Example\n",
    "\n",
    "__What is the probability of a coin landing on heads?__\n",
    "\n",
    "Possible outcomes: Heads, Tails, on the side\n",
    "\n",
    "In order to assign probabilities, we use intuition. The two sides of a coin are equal surface and if we treat the coin as two dimensional, then on the side is *not* possible. Proceed under this assumption. Since the sides are equal surface, we assign each equal probability.\n",
    "\n",
    ">First Rule of Probability Theory\n",
    ">\n",
    ">Distributions over a defined set of outcomes must be properly normalized. The sum of the probability of all the enumerated outcomes must be unity.\n",
    "\n",
    "This means that, for a given test, only *one* outcome can happen. There are two possible outcomes and each has equal chance of occuring, so for a fair coin with no \"side\", each has 50% chance of occuring. If we define $p_H$ as the probability of heads and $p_T$ as the probability of tails, then there are no other outcomes to consider and we establish that $p_H = p_T = 0.5$."
   ]
  },
  {
   "cell_type": "code",
   "execution_count": 3,
   "metadata": {
    "collapsed": true
   },
   "outputs": [],
   "source": [
    "p_H = p_T = 0.5"
   ]
  },
  {
   "cell_type": "markdown",
   "metadata": {},
   "source": [
    "*Is this properly normalized?*\n",
    "\n",
    "The First Rule establishes that an outcome must occur, so by summing over the probabilities, we must get exactly one. If not, then we have an outcome(s) we have not accounted for. We can state this in mathematical terms:\n",
    "\n",
    "$$\n",
    "\\sum_i p(x_i) \\equiv 1\n",
    "$$\n",
    "\n",
    "Where $x_i$ is the outcome labeled with index $i$. In our case we, explicitly, have:\n",
    "\n",
    "$$\n",
    "\\sum_i p(x_i) = p_H + p_T\n",
    "$$"
   ]
  },
  {
   "cell_type": "code",
   "execution_count": 4,
   "metadata": {
    "collapsed": false
   },
   "outputs": [
    {
     "name": "stdout",
     "output_type": "stream",
     "text": [
      "1.0\n"
     ]
    }
   ],
   "source": [
    "print p_H + p_T"
   ]
  },
  {
   "cell_type": "markdown",
   "metadata": {},
   "source": [
    "So, our question is trivially answered. The probability of heads is the same as tails, and there is only two outcomes, so the probability is $1/2$."
   ]
  },
  {
   "cell_type": "markdown",
   "metadata": {},
   "source": [
    "__What is the probabiliy of three heads in a row?__\n",
    "\n",
    "We will assume from here on out that the coin is \"fair\", i.e. follows the probabilities established above. We are asking the question: \"If I perform multiple experiments, what is the probability of obtaining a certain outcome from each?\" We define the probability of this as $p(x_1, x_2, x_3)$ --- this is called the _joint_ probability. It can be read as \"the joint probability of $x_1$ _and_ $x_2$ _and_ $x_3$ where *and* is read as the logical (exclusive) union operator.\n",
    "\n",
    "In general, this can be a tricky question to answer, especially if the outcome of one experiment *depends* on the previous ones. However, in our case, we are flipping a fair coin three times and each outcome is independent. We need a rule to handle this case.\n",
    "\n",
    ">Second Rule of Probability\n",
    ">\n",
    ">If all experimental trials in a joint probability are independent, then the joint probability is the product of the individual experiment probabilities\n",
    "\n",
    "$$\n",
    "p(\\bigcap_i x_i) = \\prod_i p(x_i)\n",
    "$$\n",
    "\n",
    "The $\\bigcap$ symbol stands for \"intersection\" and implies the _and_ functionality above, extended to arbitrarily many experimental trials. Specializing to the question at hand:\n",
    "\n",
    "$$\n",
    "p(x_1, x_2, x_3) = p(x_1)p(x_2)p(x_3)\n",
    "$$\n",
    "\n",
    "Even more specifically, $p(H) \\equiv p_H$. So...\n",
    "\n",
    "<details> \n",
    "  <summary>Click to view answer</summary>\n",
    "  $p(H, H, H) = p_H^3$ = 1/8\n",
    "</details>"
   ]
  },
  {
   "cell_type": "code",
   "execution_count": 33,
   "metadata": {
    "collapsed": false
   },
   "outputs": [
    {
     "data": {
      "text/plain": [
       "0.125"
      ]
     },
     "execution_count": 33,
     "metadata": {},
     "output_type": "execute_result"
    }
   ],
   "source": [
    "p_H**3"
   ]
  },
  {
   "cell_type": "markdown",
   "metadata": {},
   "source": [
    "*Is this properly normalized?*\n",
    "\n",
    "Actually, yes, because, we've set up a *new* experiment in our hypothesis, but the probabilities are individually properly normalized so this one *must* be. Let's verify.\n",
    "\n",
    "We want the probability of the _union_ of events. If I flip the coin three times, then the number of possible distinct outcomes is:\n",
    "\n",
    "<pre>\n",
    "H H H\n",
    "H H T\n",
    "H T T \n",
    "H T H\n",
    "T H H\n",
    "T T H\n",
    "T H T\n",
    "T T T\n",
    "</pre>\n",
    "\n",
    "...8. So the probability of H, H, H is $1/8$.\n",
    "\n",
    "Let's ask a slightly different question.\n",
    "\n",
    "<details> \n",
    "  <summary>What is the probability of getting the *same* flip outcome three times in a row? E.g. what is the probability of H, H, H _or_ T, T, T?</summary>\n",
    "\n",
    "$$\n",
    "p(H, H, H) = p_H^3 = 1/8 \\\\\n",
    "p(T, T, T) = p_H^3 = 1/8\n",
    "$$\n",
    "\n",
    "In the _or_ case, the probabilites are not exclusive, so they *add*.\n",
    "\n",
    "$$\n",
    "p(H, H, H \\cup T, T, T) = 1/4\n",
    "$$\n",
    "</details>\n",
    "\n",
    "In the above answer $\\cup$ is read as _or_."
   ]
  },
  {
   "cell_type": "markdown",
   "metadata": {},
   "source": [
    "### Exercise\n",
    "\n",
    "I've created a coin which isn't fair. It has a probability of landing on heads 60% of the time. The coin will otherwise fall on tails --- there are no other outcomes. __What is the probability of obtaining the sequence H, T, T?__"
   ]
  },
  {
   "cell_type": "code",
   "execution_count": 6,
   "metadata": {
    "collapsed": false
   },
   "outputs": [
    {
     "data": {
      "text/plain": [
       "0.096"
      ]
     },
     "execution_count": 6,
     "metadata": {},
     "output_type": "execute_result"
    }
   ],
   "source": [
    "p_H = 0.6\n",
    "p_T = 0.4\n",
    "p_H * p_T * p_T"
   ]
  },
  {
   "cell_type": "markdown",
   "metadata": {},
   "source": [
    "**Answer**\n",
    "\n",
    "We first need to know what all the probabilities are. We know $p_H = 0.6$, and the only other outcome is $p_T$. Since we know the entire set of probabilities must sum to one, we have $p_H + p_T \\equiv 1$ and so $p_T = 1 - p_H = 0.4$. Armed with this information, the code is as follows\n",
    "\n",
    "```python\n",
    "p_H = 0.6\n",
    "p_T = 1 - p_H\n",
    "\n",
    "p_H * p_T * p_T\n",
    "```\n",
    "\n",
    "The same table from above can be used to enumerate the possible outcomes, but they aren't all equally likely now. Combinations with H will appear more frequently because of the unfairness of the coin.\n",
    "\n",
    "### Exercise\n",
    "\n",
    "___What is the probability I get one or less H in a sequence of three unfair flips?___"
   ]
  },
  {
   "cell_type": "code",
   "execution_count": 7,
   "metadata": {
    "collapsed": false
   },
   "outputs": [
    {
     "data": {
      "text/plain": [
       "0.35200000000000004"
      ]
     },
     "execution_count": 7,
     "metadata": {},
     "output_type": "execute_result"
    }
   ],
   "source": [
    "p_T**3 + 3 * p_H * p_T**2"
   ]
  },
  {
   "cell_type": "markdown",
   "metadata": {},
   "source": [
    "**Answer**\n",
    "\n",
    "We first need to know the number of combinations which has one or less H. We can read this off from the table above --- there are four: TTT (no heads) TTH, THT, HTT (permutations of one heads). But again, they are not equally likely, so we need the probabilities of these outcomes.\n",
    "\n",
    "$$\n",
    "p(TTT) = 0.4^3 \\\\\n",
    "p(TTH) = p(THT) = p(HTT) = 0.4^2 \\times 0.6 \\\\\n",
    "$$\n",
    "\n",
    "So the answer is\n",
    "\n",
    "```python\n",
    "p_T**3 + 3 * p_H * p_T**2\n",
    "```"
   ]
  },
  {
   "cell_type": "markdown",
   "metadata": {},
   "source": [
    "In probability theory, trials like this have a specific name. They are called [a Bernoulli trial](https://en.wikipedia.org/wiki/Bernoulli_trial). The outcome of a sequence of Bernoulli trials is described by the [Binomial distribution](https://en.wikipedia.org/wiki/Binomial_distribution):\n",
    "\n",
    "$$\n",
    "{n \\choose k} p^k(1-p)^{n-k}\n",
    "$$\n",
    "\n",
    "This just codifies and extends our intuition from above. ${n \\choose k}$, read \"n choose k\" is the binomial coefficient, $p$ is the probability of one outcome and $1-p$, by definition is the other. $n$ is the number of trials and $k$ is the number of times that $p$ occurs.\n",
    "\n",
    "**What is the probability that, with the unfair coin from above, we obtain 50 heads and 50 tails?**"
   ]
  },
  {
   "cell_type": "code",
   "execution_count": 8,
   "metadata": {
    "collapsed": false
   },
   "outputs": [
    {
     "name": "stdout",
     "output_type": "stream",
     "text": [
      "Unfair coin:\n",
      "0.0103375112538\n",
      "Fair coin:\n",
      "0.0795892373872\n"
     ]
    }
   ],
   "source": [
    "p_H = 0.6\n",
    "n = 100\n",
    "k = 50\n",
    "\n",
    "print \"Unfair coin:\"\n",
    "print scipy.special.binom(n, k) * p_H**k * (1 - p_H)**(n-k)\n",
    "\n",
    "# Compare with a fair coin\n",
    "\n",
    "print \"Fair coin:\"\n",
    "p_H = 0.5\n",
    "print scipy.special.binom(n, k) * p_H**k * (1 - p_H)**(n-k)"
   ]
  },
  {
   "cell_type": "markdown",
   "metadata": {},
   "source": [
    "## Discrete vs Continuous\n",
    "\n",
    "The binomial distribution is an example of a _discrete_ probability distribution. The outcomes can be enumerated (they are [countable](https://en.wikipedia.org/wiki/Countable_set) and possibly finite (e.g. they are indexable). There are other discrete distribtions:\n",
    "\n",
    "  * Poisson: https://en.wikipedia.org/wiki/Poisson_distribution\n",
    "  * Negative binomial: https://en.wikipedia.org/wiki/Negative_binomial_distribution\n",
    "  * Geometric: https://en.wikipedia.org/wiki/Geometric_distribution\n",
    "\n",
    "In general, most are generalizations of Bernoulli trials under a given circumstance (the Poisson distribution being an exception).\n",
    "\n",
    "Continuous distirbutions have an \"uncountable\" set of outcomes, and as such are not representable by discrete proabilities. Their probabilities are described instead by functions, and instead of speaking of probability (sometimes called probability mass) we speak of *proability density*. The probability density is almost always accompanined by a measure (in most cases the typical Riemann integration measure $dx$).\n",
    "\n",
    "$$\n",
    "p \\in x, x + dx \\equiv p(x)dx\n",
    "$$\n",
    "\n",
    "This extends the notion of the union above to probability density. In the continuous case, $p(x)$ is the __probability density__. It is the probability density *at* $x$, _not_ the probability of $x$. The probability of an outcome, now the continuous variable $x$ within the interval $(x, x+dx)$ is the integral of the density in the interval. It should be noted that there is no sense of the question, \"What is the probability of obtaining *exactly* $x$\". It is zero.\n",
    "\n",
    "### Uniform Distribution\n",
    "\n",
    "The (arguably) simplest continuous distribution is the uniform distribution. It assigns equal density to all members of the interval. In the interval $(a, b)$, that looks like the following:\n",
    "\n",
    "$$\n",
    "U(a, b) \\propto \\frac{1}{b-a}\n",
    "$$\n",
    "\n",
    "You can see it has no dependence on $x$. Normalization is easy to check:\n",
    "\n",
    "$$\n",
    "\\int_a^b \\frac{1}{b-a} dx = \\left. \\frac{x}{b-a}\\right|_a^b = \\frac{b}{b-a} - \\frac{a}{b-a} = 1\n",
    "$$\n",
    "\n",
    "Let's plot."
   ]
  },
  {
   "cell_type": "code",
   "execution_count": 25,
   "metadata": {
    "collapsed": false
   },
   "outputs": [
    {
     "name": "stdout",
     "output_type": "stream",
     "text": [
      "<type 'numpy.ndarray'>\n",
      "[ 1.  1.  1.  1.  1.  1.  1.  1.  1.  1.  1.  1.  1.  1.  1.  1.  1.  1.\n",
      "  1.  1.  1.  1.  1.  1.  1.  1.  1.  1.  1.  1.  1.  1.  1.  1.  1.  1.\n",
      "  1.  1.  1.  1.  1.  1.  1.  1.  1.  1.  1.  1.  1.  1.  0.  0.  0.  0.\n",
      "  0.  0.  0.  0.  0.  0.  0.  0.  0.  0.  0.  0.  0.  0.  0.  0.  0.  0.\n",
      "  0.  0.  0.  0.  0.  0.  0.  0.  0.  0.  0.  0.  0.  0.  0.  0.  0.  0.\n",
      "  0.  0.  0.  0.  0.  0.  0.  0.  0.  0.]\n"
     ]
    },
    {
     "data": {
      "text/plain": [
       "(0, 2)"
      ]
     },
     "execution_count": 25,
     "metadata": {},
     "output_type": "execute_result"
    },
    {
     "data": {
      "image/png": "[encoded data removed]",
      "text/plain": [
       "<matplotlib.figure.Figure at 0x11034de10>"
      ]
     },
     "metadata": {},
     "output_type": "display_data"
    }
   ],
   "source": [
    "x = numpy.linspace(0, 2, 100)\n",
    "print type(x)\n",
    "\n",
    "# Notice that the probability density is zero outside the limits\n",
    "dist1 = scipy.stats.uniform(0, 1)\n",
    "pyplot.plot(x, dist1.pdf(x), 'k-')\n",
    "print dist1.pdf(x)\n",
    "\n",
    "# Notice that the normalization changes when the bounds change\n",
    "dist2 = scipy.stats.uniform(0, 2)\n",
    "pyplot.plot(x, dist2.pdf(x), 'r-')\n",
    "pyplot.xlim(0, 2)\n",
    "pyplot.ylim(0, 2)"
   ]
  },
  {
   "cell_type": "code",
   "execution_count": 14,
   "metadata": {
    "collapsed": false
   },
   "outputs": [
    {
     "data": {
      "text/plain": [
       "array([ 0.5,  0.5])"
      ]
     },
     "execution_count": 14,
     "metadata": {},
     "output_type": "execute_result"
    }
   ],
   "source": [
    "dist.pdf([1.5, 1.8])"
   ]
  },
  {
   "cell_type": "markdown",
   "metadata": {},
   "source": [
    "### Measuring the Distribution\n",
    "\n",
    "Oftentimes, we will not necessarily have an analytic way of describing the distribution --- a wide class of problems in statistics boils down to categorizing or describing a distribution from a set of data. Oftentimes we have a sample of the distribution, and must make inference with that data.\n",
    "\n",
    "Let's take a look at what we can do with samples. First we need to generate some. We'll generate 10000 samples from the distribution above confined again to $(0, 1)$."
   ]
  },
  {
   "cell_type": "code",
   "execution_count": 26,
   "metadata": {
    "collapsed": false
   },
   "outputs": [
    {
     "name": "stdout",
     "output_type": "stream",
     "text": [
      "[ 0.57238903  0.74160354  0.68040116 ...,  0.71115114  0.49475039\n",
      "  0.64844751]\n"
     ]
    }
   ],
   "source": [
    "dist = scipy.stats.uniform(0, 1)\n",
    "n_samp = 10000\n",
    "samples = dist.rvs(n_samp)\n",
    "print samples"
   ]
  },
  {
   "cell_type": "markdown",
   "metadata": {},
   "source": [
    "So, how can we approximate the function based on its samples? The key is to recall that $p(x)$ is a *density*. So, one way is to approximate the density using the samples. If we \"bin\" up the samples, by measuring the number in a given subinterval, the density is the approximation:\n",
    "\n",
    "$$\n",
    "p(x) \\sim \\sum_i \\frac{I(x_i)}{\\delta x}\n",
    "$$\n",
    "\n",
    "Where the $I$ is the indicator function, 1 if the sample lies in the subinterval, 0 if not. Plotting bars over the subintervals with heights corresponding to the count derived from the indicator function forms the basis of the histogram. It is interpreted as the frequency of values from the subinterval per subinterval."
   ]
  },
  {
   "cell_type": "code",
   "execution_count": 31,
   "metadata": {
    "collapsed": false
   },
   "outputs": [],
   "source": [
    "freq, bin_edge = numpy.histogram(samples, bins=100)\n",
    "for f, b in zip(freq, bin_edge):\n",
    "    pass\n",
    "    #print f, b"
   ]
  },
  {
   "cell_type": "markdown",
   "metadata": {},
   "source": [
    "Plotting this with bars approximates the density as constant over the subinterval with the relative value of the frequency."
   ]
  },
  {
   "cell_type": "code",
   "execution_count": 36,
   "metadata": {
    "collapsed": false
   },
   "outputs": [
    {
     "data": {
      "image/png": "[encoded data removed]",
      "text/plain": [
       "<matplotlib.figure.Figure at 0x10fbe6d10>"
      ]
     },
     "metadata": {},
     "output_type": "display_data"
    }
   ],
   "source": [
    "pyplot.figure(figsize=(10,10))\n",
    "pyplot.hist(samples, bins=100, histtype='stepfilled', edgecolor='none');"
   ]
  },
  {
   "cell_type": "markdown",
   "metadata": {},
   "source": [
    "You can ask it to normalize the histogram so that it is a true probability density. We'll overplot the true density on top for comparison."
   ]
  },
  {
   "cell_type": "code",
   "execution_count": 67,
   "metadata": {
    "collapsed": false
   },
   "outputs": [
    {
     "data": {
      "image/png": "[encoded data removed]",
      "text/plain": [
       "<matplotlib.figure.Figure at 0x10afa3810>"
      ]
     },
     "metadata": {},
     "output_type": "display_data"
    }
   ],
   "source": [
    "pyplot.hist(samples, bins=100, normed=True, histtype='stepfilled')\n",
    "pyplot.xlim(0, 1)\n",
    "pyplot.plot(x, dist.pdf(x), 'r-');"
   ]
  },
  {
   "cell_type": "markdown",
   "metadata": {},
   "source": [
    "Not bad. The blue histogram will converge to the distribution line as the number of samples increases. An infinite number of samples would be required to smooth out *all* the fluctuations, but as mentioned the histogram is an approximation. One can also affect the approximation by changing $\\delta x$, the bin width, and fewer bins means more fidelity (more samples per bin), but less resolution.\n",
    "\n",
    "We can display this effect by binning fewer and fewer samples."
   ]
  },
  {
   "cell_type": "code",
   "execution_count": 70,
   "metadata": {
    "collapsed": false
   },
   "outputs": [
    {
     "data": {
      "image/png": "[encoded data removed]",
      "text/plain": [
       "<matplotlib.figure.Figure at 0x109de3990>"
      ]
     },
     "metadata": {},
     "output_type": "display_data"
    }
   ],
   "source": [
    "pyplot.hist(samples[:1000], bins=100, normed=True, histtype='stepfilled', label=\"1000\")\n",
    "pyplot.hist(samples[:3000], bins=100, normed=True, histtype='stepfilled', label=\"3000\")\n",
    "pyplot.hist(samples[:7000], bins=100, normed=True, histtype='stepfilled', label=\"7000\")\n",
    "pyplot.hist(samples, bins=100, normed=True, histtype='stepfilled', label=\"10000\")\n",
    "pyplot.plot(x, dist.pdf(x), 'r-');\n",
    "pyplot.xlim(0, 1)\n",
    "pyplot.legend(loc=\"lower left\");"
   ]
  },
  {
   "cell_type": "markdown",
   "metadata": {},
   "source": [
    "## The Gaussian Distribution and Moments\n",
    "\n",
    "We now turn our attention to the [Normal/Gaussian distribution](https://en.wikipedia.org/wiki/Normal_distribution). It is completely described by two values: its mean (typically $\\mu$, describing its *location*) and variance (typically $\\sigma^2$, describing its *width*):\n",
    "\n",
    "$$\n",
    "N(\\mu, \\sigma) \\equiv \\frac{1}{\\sqrt{2\\pi\\sigma^2}} \\exp\\left(\\frac{-(x-\\mu)^2}{2\\sigma^2}\\right)\n",
    "$$\n",
    "\n",
    "We'll do our sampling and compare to the known analytical result. One issue here is that the Gaussian distribution is over the infinite interval --- we can't plot that. So, we'll do it over several \"widths\" of the distribution. At some point the deviations from zero are not noticeable."
   ]
  },
  {
   "cell_type": "code",
   "execution_count": 43,
   "metadata": {
    "collapsed": false
   },
   "outputs": [
    {
     "data": {
      "image/png": "[encoded data removed]",
      "text/plain": [
       "<matplotlib.figure.Figure at 0x10fe712d0>"
      ]
     },
     "metadata": {},
     "output_type": "display_data"
    }
   ],
   "source": [
    "mu, sigma = 0., 1.\n",
    "dist = scipy.stats.norm(mu, sigma)\n",
    "n_samp = 10000\n",
    "samples = dist.rvs(n_samp)\n",
    "\n",
    "x = numpy.linspace(-10*sigma + mu, 10*sigma + mu, 100)\n",
    "\n",
    "pyplot.hist(samples, bins=100, range=(x[0], x[-1]), normed=True, histtype='stepfilled', label=\"samples\")\n",
    "pyplot.ylim(0, 1.0)\n",
    "pyplot.plot(x, dist.pdf(x), 'r-', label=\"analytical\")\n",
    "pyplot.legend(loc=\"upper left\");"
   ]
  },
  {
   "cell_type": "markdown",
   "metadata": {},
   "source": [
    "The _expectation value_ of a distribution with respect to a function is defined as follows:\n",
    "\n",
    "$$\n",
    "E[f(x)] = \\int f(x) p(x) dx\n",
    "$$\n",
    "\n",
    "_Moments_ of a distribution are defined as $f(x) = x^n$ with $n$ being an integer power. For $n=0$, the zeroth moment is one (for a properly normalized distribution). The first moment, __the mean__, is $E[x]$. Some math will show that $E[x]$ for the normal distribution is $\\mu$. The second moment $E[x^2]$ is the variance $\\sigma^2$.\n",
    "\n",
    "We can compute these numerically as well. When computed from samples, they are the \"sample mean\" and the \"sample variance\" since they only converge to the true moments in the limit of infinite samples. This is one way of characterizing a distribution from its samples."
   ]
  },
  {
   "cell_type": "code",
   "execution_count": 76,
   "metadata": {
    "collapsed": false
   },
   "outputs": [
    {
     "name": "stdout",
     "output_type": "stream",
     "text": [
      "Mean: -0.004345\n",
      "Variance: 0.968698\n"
     ]
    }
   ],
   "source": [
    "print \"Mean: %f\" % numpy.mean(samples)\n",
    "print \"Variance: %f\" % numpy.std(samples)**2"
   ]
  },
  {
   "cell_type": "markdown",
   "metadata": {},
   "source": [
    "## Cumulative Distribution Function\n",
    "\n",
    "Another important feature of probability densities is the cumulative distribution function (CDF), which is formed from integrating the PDF.\n",
    "\n",
    "$$\n",
    "P(x_0) = \\int_{-\\infty}^{x_0} p(x) dx\n",
    "$$\n",
    "\n",
    "The left and right integrals are similarly defined and only the same if the PDF is symmetric. $P(-\\infty) \\equiv 0$ and $P(\\infty) \\equiv 1$ always. The CDF of the uniform distribution is straightforward:\n",
    "\n",
    "$$\n",
    "\\int_{-\\infty}^{x_0} \\frac{1}{b-a} dx \\rightarrow \\int_a^{x_0} \\frac{1}{b-a} dx = \\frac{x_0-a}{b-a}\n",
    "$$\n",
    "\n",
    "Note that the integral is only non-zero within $(a,b)$, so $a < x_0 \\leq b$, or by definition, $P(x_0 > b) = 1$.\n",
    "\n",
    "For the Gaussian, the CDF is a bit harder. The answer is not an analytic function, but it often appears. It is often called the \"error function\" or `erf`. With generalized parameters $\\mu$ and $\\sigma$, it can be expressed as follows:\n",
    "\n",
    "$$\n",
    "P\\left(\\frac{x-\\mu}{\\sigma}\\right) = \\frac{1}{2}\\left(1 + \\textrm{erf}{\\frac{x}{\\sqrt{2}}}\\right)\n",
    "$$\n",
    "\n",
    "We plot it below. The CDF can also be approximated from a set of samples by *ordering* the samples, and at each sample point, plotting $n/N$ where $n$ is the index of the sample in the order and $N$ is the total number of samples. Again, as $N\\rightarrow\\infty$ this approximation (sometimes called the empirical CDF or ECDF) converges to the CDF."
   ]
  },
  {
   "cell_type": "code",
   "execution_count": 52,
   "metadata": {
    "collapsed": false
   },
   "outputs": [
    {
     "data": {
      "text/plain": [
       "(-4.0, 4.0)"
      ]
     },
     "execution_count": 52,
     "metadata": {},
     "output_type": "execute_result"
    },
    {
     "data": {
      "image/png": "[encoded data removed]",
      "text/plain": [
       "<matplotlib.figure.Figure at 0x10ff91690>"
      ]
     },
     "metadata": {},
     "output_type": "display_data"
    }
   ],
   "source": [
    "n_samp = 500\n",
    "samples = dist.rvs(n_samp)\n",
    "\n",
    "# Plot PDF\n",
    "pyplot.figure(figsize=(10, 10))\n",
    "pyplot.subplot(2, 1, 1)\n",
    "pyplot.plot(x, dist.pdf(x), 'r-', label=\"pdf analytical\")\n",
    "h, b, _ = pyplot.hist(samples, bins=20, normed=True, histtype='stepfilled', label=\"samples\")\n",
    "pyplot.legend()\n",
    "\n",
    "# Sort the samples and set up the y axis\n",
    "srt = numpy.argsort(samples)\n",
    "yaxis = numpy.linspace(0, n_samp, n_samp)/float(n_samp)\n",
    "pyplot.xlim(-4*sigma, 4*sigma)\n",
    "\n",
    "# Plot CDF\n",
    "pyplot.subplot(2, 1, 2)\n",
    "pyplot.plot(x, dist.cdf(x), 'm-', label=\"cdf analytical\")\n",
    "pyplot.step(samples[srt], yaxis, color='g', label=\"ecdf\")\n",
    "dx = b[1] - b[0]\n",
    "pyplot.step(b[1:], h.cumsum() * dx, 'c-')\n",
    "pyplot.legend()\n",
    "#pyplot.grid()\n",
    "pyplot.xlim(-4*sigma, 4*sigma)"
   ]
  },
  {
   "cell_type": "markdown",
   "metadata": {},
   "source": [
    "### Exercise\n",
    "\n",
    "Plot PDF and CDF, sample, and find the mean and variance for another continuous distirbution. Here's a listing of a few --- note that a few might require one less or one more parameter:\n",
    "\n",
    " * `scipy.stats.beta`\n",
    " * `scipy.stats.gamma`\n",
    " * `scipy.stats.expon`\n",
    " * `scipy.stats.lognorm`\n",
    " * `scipy.stats.chi2` (this one has only one parameter --- the number of degrees of freedom)\n",
    " * `scipy.stats.maxwell`\n",
    "\n",
    "Try adjusting the number of samples up and down and watch the approximation fidelity."
   ]
  }
 ],
 "metadata": {
  "kernelspec": {
   "display_name": "Python 2",
   "language": "python",
   "name": "python2"
  },
  "language_info": {
   "codemirror_mode": {
    "name": "ipython",
    "version": 2
   },
   "file_extension": ".py",
   "mimetype": "text/x-python",
   "name": "python",
   "nbconvert_exporter": "python",
   "pygments_lexer": "ipython2",
   "version": "2.7.11"
  }
 },
 "nbformat": 4,
 "nbformat_minor": 0
}
